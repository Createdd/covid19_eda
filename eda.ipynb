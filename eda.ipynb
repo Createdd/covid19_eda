{
 "cells": [
  {
   "cell_type": "markdown",
   "metadata": {},
   "source": [
    "# EDA of COVID-19 data"
   ]
  },
  {
   "cell_type": "markdown",
   "metadata": {},
   "source": [
    "- data from: https://github.com/CSSEGISandData/COVID-19/tree/master/csse_covid_19_data/csse_covid_19_daily_reports\n"
   ]
  },
  {
   "cell_type": "code",
   "execution_count": 3,
   "metadata": {
    "ExecuteTime": {
     "end_time": "2020-04-04T16:14:32.846295Z",
     "start_time": "2020-04-04T16:14:32.842101Z"
    }
   },
   "outputs": [],
   "source": [
    "from matplotlib import pyplot as plt\n",
    "import OpenBlender\n",
    "import pandas as pd\n",
    "import json\n",
    "%matplotlib inline"
   ]
  },
  {
   "cell_type": "code",
   "execution_count": null,
   "metadata": {
    "ExecuteTime": {
     "start_time": "2020-04-04T16:18:46.382Z"
    }
   },
   "outputs": [
    {
     "name": "stdout",
     "output_type": "stream",
     "text": [
      "Task ID: '5e88b36d0895fafb4a9d8d4b'.\n",
      "Total estimated consumption: 57009.09 processing units.\n",
      "Continue?  [y] yes \t [n] noy\n",
      "Task confirmed. Starting download..\n",
      "1.28 %\n",
      "2.56 %\n",
      "3.85 %\n",
      "5.13 %\n",
      "------------------------------------------------\n",
      "API call error: 'NoneType' object is not iterable\n",
      "------------------------------------------------\n",
      "\n",
      "Warning: Some observations could not be processed.\n",
      "7.69 %\n",
      "8.97 %\n",
      "10.26 %\n",
      "11.54 %\n",
      "12.82 %\n",
      "14.1 %\n",
      "------------------------------------------------\n",
      "API call error: argument of type 'NoneType' is not iterable\n",
      "------------------------------------------------\n",
      "\n",
      "Warning: Some observations could not be processed.\n",
      "16.67 %\n",
      "17.95 %\n"
     ]
    }
   ],
   "source": [
    "action = 'API_getObservationsFromDataset'\n",
    "parameters = { \n",
    " 'token':'5e88b2f09516297238d805777WfvS3wlYPzoMhRQw1GvXCyv3pW5q0',\n",
    " 'id_dataset':'5e7a0d5d9516296cb86c6263',\n",
    " 'date_filter':{\n",
    "               \"start_date\":\"2020-01-01T06:00:00.000Z\",\n",
    "               \"end_date\":\"2020-03-11T06:00:00.000Z\"},\n",
    " 'consumption_confirmation':'on',\n",
    " 'add_date' : 'date'\n",
    "}\n",
    "\n",
    "df_confirmed = pd.read_json(json.dumps(OpenBlender.call(action, parameters)['sample']), convert_dates=False, convert_axes=False).sort_values('timestamp', ascending=False)\n",
    "df_confirmed.reset_index(drop=True, inplace=True)\n",
    "df_confirmed.head(10)"
   ]
  },
  {
   "cell_type": "code",
   "execution_count": null,
   "metadata": {},
   "outputs": [],
   "source": []
  }
 ],
 "metadata": {
  "hide_input": false,
  "kernelspec": {
   "display_name": "covidEDA",
   "language": "python",
   "name": "covideda"
  },
  "language_info": {
   "codemirror_mode": {
    "name": "ipython",
    "version": 3
   },
   "file_extension": ".py",
   "mimetype": "text/x-python",
   "name": "python",
   "nbconvert_exporter": "python",
   "pygments_lexer": "ipython3",
   "version": "3.7.6"
  },
  "toc": {
   "base_numbering": 1,
   "nav_menu": {},
   "number_sections": true,
   "sideBar": true,
   "skip_h1_title": false,
   "title_cell": "Table of Contents",
   "title_sidebar": "Contents",
   "toc_cell": false,
   "toc_position": {},
   "toc_section_display": true,
   "toc_window_display": false
  },
  "varInspector": {
   "cols": {
    "lenName": 16,
    "lenType": 16,
    "lenVar": 40
   },
   "kernels_config": {
    "python": {
     "delete_cmd_postfix": "",
     "delete_cmd_prefix": "del ",
     "library": "var_list.py",
     "varRefreshCmd": "print(var_dic_list())"
    },
    "r": {
     "delete_cmd_postfix": ") ",
     "delete_cmd_prefix": "rm(",
     "library": "var_list.r",
     "varRefreshCmd": "cat(var_dic_list()) "
    }
   },
   "types_to_exclude": [
    "module",
    "function",
    "builtin_function_or_method",
    "instance",
    "_Feature"
   ],
   "window_display": false
  }
 },
 "nbformat": 4,
 "nbformat_minor": 4
}
