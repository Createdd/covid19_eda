{
 "cells": [
  {
   "cell_type": "markdown",
   "metadata": {},
   "source": [
    "# EDA of COVID-19 data"
   ]
  },
  {
   "cell_type": "markdown",
   "metadata": {},
   "source": [
    "- data from: https://github.com/CSSEGISandData/COVID-19/tree/master/csse_covid_19_data/csse_covid_19_daily_reports\n",
    "- using the cleaned dataset from https://towardsdatascience.com/gather-all-the-coronavirus-data-with-python-19aa22167dea\n"
   ]
  },
  {
   "cell_type": "code",
   "execution_count": 9,
   "metadata": {
    "ExecuteTime": {
     "end_time": "2020-04-04T16:32:41.725265Z",
     "start_time": "2020-04-04T16:32:33.426994Z"
    }
   },
   "outputs": [],
   "source": [
    "import matplotlib.pyplot as plt\n",
    "import OpenBlender\n",
    "import pandas as pd\n",
    "import json\n",
    "import numpy as np\n",
    "import seaborn as sns\n",
    "from pandas_profiling import ProfileReport\n",
    "\n",
    "%matplotlib inline"
   ]
  },
  {
   "cell_type": "code",
   "execution_count": 4,
   "metadata": {
    "ExecuteTime": {
     "end_time": "2020-04-04T16:24:50.581999Z",
     "start_time": "2020-04-04T16:18:46.384656Z"
    },
    "collapsed": true
   },
   "outputs": [
    {
     "name": "stdout",
     "output_type": "stream",
     "text": [
      "Task ID: '5e88b36d0895fafb4a9d8d4b'.\n",
      "Total estimated consumption: 57009.09 processing units.\n",
      "Continue?  [y] yes \t [n] noy\n",
      "Task confirmed. Starting download..\n",
      "1.28 %\n",
      "2.56 %\n",
      "3.85 %\n",
      "5.13 %\n",
      "------------------------------------------------\n",
      "API call error: 'NoneType' object is not iterable\n",
      "------------------------------------------------\n",
      "\n",
      "Warning: Some observations could not be processed.\n",
      "7.69 %\n",
      "8.97 %\n",
      "10.26 %\n",
      "11.54 %\n",
      "12.82 %\n",
      "14.1 %\n",
      "------------------------------------------------\n",
      "API call error: argument of type 'NoneType' is not iterable\n",
      "------------------------------------------------\n",
      "\n",
      "Warning: Some observations could not be processed.\n",
      "16.67 %\n",
      "17.95 %\n",
      "19.23 %\n",
      "20.51 %\n",
      "21.79 %\n",
      "23.08 %\n",
      "24.36 %\n",
      "25.64 %\n",
      "26.92 %\n",
      "28.21 %\n",
      "29.49 %\n",
      "30.77 %\n",
      "32.05 %\n",
      "33.33 %\n",
      "34.62 %\n",
      "35.9 %\n",
      "------------------------------------------------\n",
      "API call error: argument of type 'NoneType' is not iterable\n",
      "------------------------------------------------\n",
      "\n",
      "Warning: Some observations could not be processed.\n",
      "38.46 %\n",
      "39.74 %\n",
      "41.03 %\n",
      "42.31 %\n",
      "43.59 %\n",
      "44.87 %\n",
      "46.15 %\n",
      "47.44 %\n",
      "48.72 %\n",
      "50.0 %\n",
      "51.28 %\n",
      "52.56 %\n",
      "53.85 %\n",
      "55.13 %\n",
      "56.41 %\n",
      "57.69 %\n",
      "58.97 %\n",
      "60.26 %\n",
      "61.54 %\n",
      "62.82 %\n",
      "64.1 %\n",
      "65.38 %\n",
      "66.67 %\n",
      "67.95 %\n",
      "69.23 %\n",
      "70.51 %\n",
      "71.79 %\n",
      "73.08 %\n",
      "74.36 %\n",
      "75.64 %\n",
      "76.92 %\n",
      "78.21 %\n",
      "79.49 %\n",
      "80.77 %\n",
      "82.05 %\n",
      "83.33 %\n",
      "84.62 %\n",
      "85.9 %\n",
      "87.18 %\n",
      "88.46 %\n",
      "89.74 %\n",
      "91.03 %\n",
      "92.31 %\n",
      "93.59 %\n",
      "94.87 %\n",
      "96.15 %\n",
      "97.44 %\n",
      "98.72 %\n",
      "100.0 % completed.\n"
     ]
    },
    {
     "data": {
      "text/html": [
       "<div>\n",
       "<style scoped>\n",
       "    .dataframe tbody tr th:only-of-type {\n",
       "        vertical-align: middle;\n",
       "    }\n",
       "\n",
       "    .dataframe tbody tr th {\n",
       "        vertical-align: top;\n",
       "    }\n",
       "\n",
       "    .dataframe thead th {\n",
       "        text-align: right;\n",
       "    }\n",
       "</style>\n",
       "<table border=\"1\" class=\"dataframe\">\n",
       "  <thead>\n",
       "    <tr style=\"text-align: right;\">\n",
       "      <th></th>\n",
       "      <th>confirmed</th>\n",
       "      <th>deaths</th>\n",
       "      <th>timestamp</th>\n",
       "      <th>province_state</th>\n",
       "      <th>long</th>\n",
       "      <th>country_region</th>\n",
       "      <th>timestamp.date</th>\n",
       "      <th>lat</th>\n",
       "      <th>recovered</th>\n",
       "    </tr>\n",
       "  </thead>\n",
       "  <tbody>\n",
       "    <tr>\n",
       "      <th>0</th>\n",
       "      <td>0</td>\n",
       "      <td>0</td>\n",
       "      <td>1583841600</td>\n",
       "      <td></td>\n",
       "      <td>-59.5432</td>\n",
       "      <td>Belize</td>\n",
       "      <td>2020-03-10</td>\n",
       "      <td>13.1939</td>\n",
       "      <td></td>\n",
       "    </tr>\n",
       "    <tr>\n",
       "      <th>1</th>\n",
       "      <td>758</td>\n",
       "      <td>6</td>\n",
       "      <td>1583841600</td>\n",
       "      <td>Shandong</td>\n",
       "      <td>118.1498</td>\n",
       "      <td>China</td>\n",
       "      <td>2020-03-10</td>\n",
       "      <td>36.3427</td>\n",
       "      <td>719</td>\n",
       "    </tr>\n",
       "    <tr>\n",
       "      <th>2</th>\n",
       "      <td>9</td>\n",
       "      <td>0</td>\n",
       "      <td>1583841600</td>\n",
       "      <td></td>\n",
       "      <td>-83.7534</td>\n",
       "      <td>Costa Rica</td>\n",
       "      <td>2020-03-10</td>\n",
       "      <td>9.7489</td>\n",
       "      <td>0</td>\n",
       "    </tr>\n",
       "    <tr>\n",
       "      <th>3</th>\n",
       "      <td>0</td>\n",
       "      <td>0</td>\n",
       "      <td>1583841600</td>\n",
       "      <td></td>\n",
       "      <td>21.7587</td>\n",
       "      <td>Congo (Kinshasa)</td>\n",
       "      <td>2020-03-10</td>\n",
       "      <td>-4.0383</td>\n",
       "      <td>0</td>\n",
       "    </tr>\n",
       "    <tr>\n",
       "      <th>4</th>\n",
       "      <td>0</td>\n",
       "      <td>0</td>\n",
       "      <td>1583841600</td>\n",
       "      <td></td>\n",
       "      <td>21.7587</td>\n",
       "      <td>Congo (Brazzaville)</td>\n",
       "      <td>2020-03-10</td>\n",
       "      <td>-4.0383</td>\n",
       "      <td>0</td>\n",
       "    </tr>\n",
       "    <tr>\n",
       "      <th>5</th>\n",
       "      <td>3</td>\n",
       "      <td>0</td>\n",
       "      <td>1583841600</td>\n",
       "      <td></td>\n",
       "      <td>-74.2973</td>\n",
       "      <td>Colombia</td>\n",
       "      <td>2020-03-10</td>\n",
       "      <td>4.5709</td>\n",
       "      <td>0</td>\n",
       "    </tr>\n",
       "    <tr>\n",
       "      <th>6</th>\n",
       "      <td>1215</td>\n",
       "      <td>1</td>\n",
       "      <td>1583841600</td>\n",
       "      <td>Zhejiang</td>\n",
       "      <td>120.0934</td>\n",
       "      <td>China</td>\n",
       "      <td>2020-03-10</td>\n",
       "      <td>29.1832</td>\n",
       "      <td>1191</td>\n",
       "    </tr>\n",
       "    <tr>\n",
       "      <th>7</th>\n",
       "      <td>174</td>\n",
       "      <td>2</td>\n",
       "      <td>1583841600</td>\n",
       "      <td>Yunnan</td>\n",
       "      <td>101.4870</td>\n",
       "      <td>China</td>\n",
       "      <td>2020-03-10</td>\n",
       "      <td>24.9740</td>\n",
       "      <td>170</td>\n",
       "    </tr>\n",
       "    <tr>\n",
       "      <th>8</th>\n",
       "      <td>76</td>\n",
       "      <td>3</td>\n",
       "      <td>1583841600</td>\n",
       "      <td>Xinjiang</td>\n",
       "      <td>85.2401</td>\n",
       "      <td>China</td>\n",
       "      <td>2020-03-10</td>\n",
       "      <td>41.1129</td>\n",
       "      <td>73</td>\n",
       "    </tr>\n",
       "    <tr>\n",
       "      <th>9</th>\n",
       "      <td>1</td>\n",
       "      <td>0</td>\n",
       "      <td>1583841600</td>\n",
       "      <td>Tibet</td>\n",
       "      <td>88.0924</td>\n",
       "      <td>China</td>\n",
       "      <td>2020-03-10</td>\n",
       "      <td>31.6927</td>\n",
       "      <td>1</td>\n",
       "    </tr>\n",
       "  </tbody>\n",
       "</table>\n",
       "</div>"
      ],
      "text/plain": [
       "   confirmed  deaths   timestamp province_state      long  \\\n",
       "0          0       0  1583841600                 -59.5432   \n",
       "1        758       6  1583841600       Shandong  118.1498   \n",
       "2          9       0  1583841600                 -83.7534   \n",
       "3          0       0  1583841600                  21.7587   \n",
       "4          0       0  1583841600                  21.7587   \n",
       "5          3       0  1583841600                 -74.2973   \n",
       "6       1215       1  1583841600       Zhejiang  120.0934   \n",
       "7        174       2  1583841600         Yunnan  101.4870   \n",
       "8         76       3  1583841600       Xinjiang   85.2401   \n",
       "9          1       0  1583841600          Tibet   88.0924   \n",
       "\n",
       "        country_region timestamp.date      lat recovered  \n",
       "0               Belize     2020-03-10  13.1939            \n",
       "1                China     2020-03-10  36.3427       719  \n",
       "2           Costa Rica     2020-03-10   9.7489         0  \n",
       "3     Congo (Kinshasa)     2020-03-10  -4.0383         0  \n",
       "4  Congo (Brazzaville)     2020-03-10  -4.0383         0  \n",
       "5             Colombia     2020-03-10   4.5709         0  \n",
       "6                China     2020-03-10  29.1832      1191  \n",
       "7                China     2020-03-10  24.9740       170  \n",
       "8                China     2020-03-10  41.1129        73  \n",
       "9                China     2020-03-10  31.6927         1  "
      ]
     },
     "execution_count": 4,
     "metadata": {},
     "output_type": "execute_result"
    }
   ],
   "source": [
    "action = 'API_getObservationsFromDataset'\n",
    "parameters = { \n",
    " 'token':'5e88b2f09516297238d805777WfvS3wlYPzoMhRQw1GvXCyv3pW5q0',\n",
    " 'id_dataset':'5e7a0d5d9516296cb86c6263',\n",
    " 'date_filter':{\n",
    "               \"start_date\":\"2020-01-01T06:00:00.000Z\",\n",
    "               \"end_date\":\"2020-03-11T06:00:00.000Z\"},\n",
    " 'consumption_confirmation':'on',\n",
    " 'add_date' : 'date'\n",
    "}\n",
    "\n",
    "df_confirmed = pd.read_json(json.dumps(OpenBlender.call(action, parameters)['sample']), convert_dates=False, convert_axes=False).sort_values('timestamp', ascending=False)\n",
    "df_confirmed.reset_index(drop=True, inplace=True)\n",
    "df_confirmed.head(10)"
   ]
  },
  {
   "cell_type": "code",
   "execution_count": 8,
   "metadata": {
    "ExecuteTime": {
     "end_time": "2020-04-04T16:26:56.242739Z",
     "start_time": "2020-04-04T16:26:56.220836Z"
    }
   },
   "outputs": [
    {
     "data": {
      "text/html": [
       "<div>\n",
       "<style scoped>\n",
       "    .dataframe tbody tr th:only-of-type {\n",
       "        vertical-align: middle;\n",
       "    }\n",
       "\n",
       "    .dataframe tbody tr th {\n",
       "        vertical-align: top;\n",
       "    }\n",
       "\n",
       "    .dataframe thead th {\n",
       "        text-align: right;\n",
       "    }\n",
       "</style>\n",
       "<table border=\"1\" class=\"dataframe\">\n",
       "  <thead>\n",
       "    <tr style=\"text-align: right;\">\n",
       "      <th></th>\n",
       "      <th>confirmed</th>\n",
       "      <th>deaths</th>\n",
       "      <th>timestamp</th>\n",
       "      <th>province_state</th>\n",
       "      <th>long</th>\n",
       "      <th>country_region</th>\n",
       "      <th>timestamp.date</th>\n",
       "      <th>lat</th>\n",
       "      <th>recovered</th>\n",
       "    </tr>\n",
       "  </thead>\n",
       "  <tbody>\n",
       "    <tr>\n",
       "      <th>0</th>\n",
       "      <td>0</td>\n",
       "      <td>0</td>\n",
       "      <td>1583841600</td>\n",
       "      <td></td>\n",
       "      <td>-59.5432</td>\n",
       "      <td>Belize</td>\n",
       "      <td>2020-03-10</td>\n",
       "      <td>13.1939</td>\n",
       "      <td></td>\n",
       "    </tr>\n",
       "    <tr>\n",
       "      <th>1</th>\n",
       "      <td>758</td>\n",
       "      <td>6</td>\n",
       "      <td>1583841600</td>\n",
       "      <td>Shandong</td>\n",
       "      <td>118.1498</td>\n",
       "      <td>China</td>\n",
       "      <td>2020-03-10</td>\n",
       "      <td>36.3427</td>\n",
       "      <td>719</td>\n",
       "    </tr>\n",
       "    <tr>\n",
       "      <th>2</th>\n",
       "      <td>9</td>\n",
       "      <td>0</td>\n",
       "      <td>1583841600</td>\n",
       "      <td></td>\n",
       "      <td>-83.7534</td>\n",
       "      <td>Costa Rica</td>\n",
       "      <td>2020-03-10</td>\n",
       "      <td>9.7489</td>\n",
       "      <td>0</td>\n",
       "    </tr>\n",
       "    <tr>\n",
       "      <th>3</th>\n",
       "      <td>0</td>\n",
       "      <td>0</td>\n",
       "      <td>1583841600</td>\n",
       "      <td></td>\n",
       "      <td>21.7587</td>\n",
       "      <td>Congo (Kinshasa)</td>\n",
       "      <td>2020-03-10</td>\n",
       "      <td>-4.0383</td>\n",
       "      <td>0</td>\n",
       "    </tr>\n",
       "    <tr>\n",
       "      <th>4</th>\n",
       "      <td>0</td>\n",
       "      <td>0</td>\n",
       "      <td>1583841600</td>\n",
       "      <td></td>\n",
       "      <td>21.7587</td>\n",
       "      <td>Congo (Brazzaville)</td>\n",
       "      <td>2020-03-10</td>\n",
       "      <td>-4.0383</td>\n",
       "      <td>0</td>\n",
       "    </tr>\n",
       "    <tr>\n",
       "      <th>...</th>\n",
       "      <td>...</td>\n",
       "      <td>...</td>\n",
       "      <td>...</td>\n",
       "      <td>...</td>\n",
       "      <td>...</td>\n",
       "      <td>...</td>\n",
       "      <td>...</td>\n",
       "      <td>...</td>\n",
       "      <td>...</td>\n",
       "    </tr>\n",
       "    <tr>\n",
       "      <th>11204</th>\n",
       "      <td>0</td>\n",
       "      <td>0</td>\n",
       "      <td>1579694400</td>\n",
       "      <td></td>\n",
       "      <td>73.2207</td>\n",
       "      <td>Maldives</td>\n",
       "      <td>2020-01-22</td>\n",
       "      <td>3.2028</td>\n",
       "      <td>0</td>\n",
       "    </tr>\n",
       "    <tr>\n",
       "      <th>11205</th>\n",
       "      <td>0</td>\n",
       "      <td>0</td>\n",
       "      <td>1579694400</td>\n",
       "      <td></td>\n",
       "      <td>112.5000</td>\n",
       "      <td>Malaysia</td>\n",
       "      <td>2020-01-22</td>\n",
       "      <td>2.5000</td>\n",
       "      <td>0</td>\n",
       "    </tr>\n",
       "    <tr>\n",
       "      <th>11206</th>\n",
       "      <td>0</td>\n",
       "      <td>0</td>\n",
       "      <td>1579694400</td>\n",
       "      <td></td>\n",
       "      <td>46.8691</td>\n",
       "      <td>Madagascar</td>\n",
       "      <td>2020-01-22</td>\n",
       "      <td>-18.7669</td>\n",
       "      <td>0</td>\n",
       "    </tr>\n",
       "    <tr>\n",
       "      <th>11207</th>\n",
       "      <td>0</td>\n",
       "      <td>0</td>\n",
       "      <td>1579694400</td>\n",
       "      <td></td>\n",
       "      <td>6.1296</td>\n",
       "      <td>Luxembourg</td>\n",
       "      <td>2020-01-22</td>\n",
       "      <td>49.8153</td>\n",
       "      <td>0</td>\n",
       "    </tr>\n",
       "    <tr>\n",
       "      <th>11208</th>\n",
       "      <td>0</td>\n",
       "      <td>0</td>\n",
       "      <td>1579694400</td>\n",
       "      <td></td>\n",
       "      <td>65.0000</td>\n",
       "      <td>Afghanistan</td>\n",
       "      <td>2020-01-22</td>\n",
       "      <td>33.0000</td>\n",
       "      <td>0</td>\n",
       "    </tr>\n",
       "  </tbody>\n",
       "</table>\n",
       "<p>11209 rows × 9 columns</p>\n",
       "</div>"
      ],
      "text/plain": [
       "       confirmed  deaths   timestamp province_state      long  \\\n",
       "0              0       0  1583841600                 -59.5432   \n",
       "1            758       6  1583841600       Shandong  118.1498   \n",
       "2              9       0  1583841600                 -83.7534   \n",
       "3              0       0  1583841600                  21.7587   \n",
       "4              0       0  1583841600                  21.7587   \n",
       "...          ...     ...         ...            ...       ...   \n",
       "11204          0       0  1579694400                  73.2207   \n",
       "11205          0       0  1579694400                 112.5000   \n",
       "11206          0       0  1579694400                  46.8691   \n",
       "11207          0       0  1579694400                   6.1296   \n",
       "11208          0       0  1579694400                  65.0000   \n",
       "\n",
       "            country_region timestamp.date      lat recovered  \n",
       "0                   Belize     2020-03-10  13.1939            \n",
       "1                    China     2020-03-10  36.3427       719  \n",
       "2               Costa Rica     2020-03-10   9.7489         0  \n",
       "3         Congo (Kinshasa)     2020-03-10  -4.0383         0  \n",
       "4      Congo (Brazzaville)     2020-03-10  -4.0383         0  \n",
       "...                    ...            ...      ...       ...  \n",
       "11204             Maldives     2020-01-22   3.2028         0  \n",
       "11205             Malaysia     2020-01-22   2.5000         0  \n",
       "11206           Madagascar     2020-01-22 -18.7669         0  \n",
       "11207           Luxembourg     2020-01-22  49.8153         0  \n",
       "11208          Afghanistan     2020-01-22  33.0000         0  \n",
       "\n",
       "[11209 rows x 9 columns]"
      ]
     },
     "execution_count": 8,
     "metadata": {},
     "output_type": "execute_result"
    }
   ],
   "source": [
    "df_confirmed"
   ]
  },
  {
   "cell_type": "code",
   "execution_count": 12,
   "metadata": {
    "ExecuteTime": {
     "end_time": "2020-04-04T16:39:05.284333Z",
     "start_time": "2020-04-04T16:38:53.809832Z"
    }
   },
   "outputs": [
    {
     "data": {
      "application/vnd.jupyter.widget-view+json": {
       "model_id": "9673a726c6e4437987517728b095faf9",
       "version_major": 2,
       "version_minor": 0
      },
      "text/plain": [
       "HBox(children=(FloatProgress(value=0.0, description='variables', max=9.0, style=ProgressStyle(description_widt…"
      ]
     },
     "metadata": {},
     "output_type": "display_data"
    },
    {
     "name": "stdout",
     "output_type": "stream",
     "text": [
      "\n"
     ]
    },
    {
     "data": {
      "application/vnd.jupyter.widget-view+json": {
       "model_id": "1892776e25f94cd5b6a35773638219be",
       "version_major": 2,
       "version_minor": 0
      },
      "text/plain": [
       "HBox(children=(FloatProgress(value=0.0, description='correlations', max=6.0, style=ProgressStyle(description_w…"
      ]
     },
     "metadata": {},
     "output_type": "display_data"
    },
    {
     "name": "stdout",
     "output_type": "stream",
     "text": [
      "\n"
     ]
    },
    {
     "data": {
      "application/vnd.jupyter.widget-view+json": {
       "model_id": "ccca62222dc042baa06d0bd19d760d8f",
       "version_major": 2,
       "version_minor": 0
      },
      "text/plain": [
       "HBox(children=(FloatProgress(value=0.0, description='interactions [continuous]', max=25.0, style=ProgressStyle…"
      ]
     },
     "metadata": {},
     "output_type": "display_data"
    },
    {
     "name": "stdout",
     "output_type": "stream",
     "text": [
      "\n"
     ]
    },
    {
     "data": {
      "application/vnd.jupyter.widget-view+json": {
       "model_id": "12519988b5fc4da7b1c0340fdc21e467",
       "version_major": 2,
       "version_minor": 0
      },
      "text/plain": [
       "HBox(children=(FloatProgress(value=0.0, description='table', max=1.0, style=ProgressStyle(description_width='i…"
      ]
     },
     "metadata": {},
     "output_type": "display_data"
    },
    {
     "name": "stdout",
     "output_type": "stream",
     "text": [
      "\n"
     ]
    },
    {
     "data": {
      "application/vnd.jupyter.widget-view+json": {
       "model_id": "954edb4e1c2d4190b483bac2fb15f200",
       "version_major": 2,
       "version_minor": 0
      },
      "text/plain": [
       "HBox(children=(FloatProgress(value=0.0, description='missing', max=2.0, style=ProgressStyle(description_width=…"
      ]
     },
     "metadata": {},
     "output_type": "display_data"
    },
    {
     "name": "stdout",
     "output_type": "stream",
     "text": [
      "\n"
     ]
    },
    {
     "data": {
      "application/vnd.jupyter.widget-view+json": {
       "model_id": "a9d86f2db6694a88b999869ef3b2d89f",
       "version_major": 2,
       "version_minor": 0
      },
      "text/plain": [
       "HBox(children=(FloatProgress(value=0.0, description='warnings', max=3.0, style=ProgressStyle(description_width…"
      ]
     },
     "metadata": {},
     "output_type": "display_data"
    },
    {
     "name": "stdout",
     "output_type": "stream",
     "text": [
      "\n"
     ]
    },
    {
     "data": {
      "application/vnd.jupyter.widget-view+json": {
       "model_id": "47406074abf24717a55690f7300ad19a",
       "version_major": 2,
       "version_minor": 0
      },
      "text/plain": [
       "HBox(children=(FloatProgress(value=0.0, description='package', max=1.0, style=ProgressStyle(description_width=…"
      ]
     },
     "metadata": {},
     "output_type": "display_data"
    },
    {
     "name": "stdout",
     "output_type": "stream",
     "text": [
      "\n"
     ]
    },
    {
     "data": {
      "application/vnd.jupyter.widget-view+json": {
       "model_id": "0893b50deed5474b822b0309d99492f0",
       "version_major": 2,
       "version_minor": 0
      },
      "text/plain": [
       "HBox(children=(FloatProgress(value=0.0, description='build report structure', max=1.0, style=ProgressStyle(des…"
      ]
     },
     "metadata": {},
     "output_type": "display_data"
    },
    {
     "name": "stdout",
     "output_type": "stream",
     "text": [
      "\n"
     ]
    }
   ],
   "source": [
    "df = df_confirmed\n",
    "report_title = f'Report of covid-19 cases'\n",
    "profile = ProfileReport(df, title=report_title)\n",
    "profile.to_file(\n",
    "        output_file=f\"./report/covid19_cases.html\")"
   ]
  },
  {
   "cell_type": "code",
   "execution_count": null,
   "metadata": {},
   "outputs": [],
   "source": []
  }
 ],
 "metadata": {
  "hide_input": false,
  "kernelspec": {
   "display_name": "covidEDA",
   "language": "python",
   "name": "covideda"
  },
  "language_info": {
   "codemirror_mode": {
    "name": "ipython",
    "version": 3
   },
   "file_extension": ".py",
   "mimetype": "text/x-python",
   "name": "python",
   "nbconvert_exporter": "python",
   "pygments_lexer": "ipython3",
   "version": "3.7.6"
  },
  "toc": {
   "base_numbering": 1,
   "nav_menu": {},
   "number_sections": true,
   "sideBar": true,
   "skip_h1_title": false,
   "title_cell": "Table of Contents",
   "title_sidebar": "Contents",
   "toc_cell": false,
   "toc_position": {},
   "toc_section_display": true,
   "toc_window_display": false
  },
  "varInspector": {
   "cols": {
    "lenName": 16,
    "lenType": 16,
    "lenVar": 40
   },
   "kernels_config": {
    "python": {
     "delete_cmd_postfix": "",
     "delete_cmd_prefix": "del ",
     "library": "var_list.py",
     "varRefreshCmd": "print(var_dic_list())"
    },
    "r": {
     "delete_cmd_postfix": ") ",
     "delete_cmd_prefix": "rm(",
     "library": "var_list.r",
     "varRefreshCmd": "cat(var_dic_list()) "
    }
   },
   "types_to_exclude": [
    "module",
    "function",
    "builtin_function_or_method",
    "instance",
    "_Feature"
   ],
   "window_display": false
  }
 },
 "nbformat": 4,
 "nbformat_minor": 4
}
